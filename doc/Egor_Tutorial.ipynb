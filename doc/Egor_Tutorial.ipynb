{
 "cells": [
  {
   "attachments": {},
   "cell_type": "markdown",
   "id": "72380b9b",
   "metadata": {},
   "source": [
    "# Using _egobox_ optimizer _Egor_"
   ]
  },
  {
   "attachments": {},
   "cell_type": "markdown",
   "id": "31022791",
   "metadata": {},
   "source": [
    "## Installation"
   ]
  },
  {
   "cell_type": "code",
   "execution_count": null,
   "id": "1504e619-5775-42d3-8f48-7339272303ec",
   "metadata": {},
   "outputs": [],
   "source": [
    "%pip install egobox"
   ]
  },
  {
   "attachments": {},
   "cell_type": "markdown",
   "id": "4c2757f5",
   "metadata": {},
   "source": [
    "We import _egobox_ as _egx_ for short."
   ]
  },
  {
   "cell_type": "code",
   "execution_count": 2,
   "id": "0edaf00f",
   "metadata": {},
   "outputs": [],
   "source": [
    "import numpy as np\n",
    "import egobox as egx"
   ]
  },
  {
   "cell_type": "markdown",
   "id": "6c8c8c84",
   "metadata": {},
   "source": [
    "You may setup the logging level to get optimization progress during the execution"
   ]
  },
  {
   "cell_type": "code",
   "execution_count": 3,
   "id": "af2d82be",
   "metadata": {},
   "outputs": [],
   "source": [
    "# To display optimization information (none by default)\n",
    "# import logging\n",
    "# logging.basicConfig(level=logging.INFO)"
   ]
  },
  {
   "attachments": {},
   "cell_type": "markdown",
   "id": "22997c39",
   "metadata": {},
   "source": [
    "## Example 1 : Continuous optimization"
   ]
  },
  {
   "attachments": {},
   "cell_type": "markdown",
   "id": "faae2555",
   "metadata": {},
   "source": [
    "### Test functions"
   ]
  },
  {
   "cell_type": "code",
   "execution_count": 4,
   "id": "7f6da807",
   "metadata": {},
   "outputs": [],
   "source": [
    "xspecs_xsinx = egx.to_specs([[0., 25.]])\n",
    "n_cstr_xsinx = 0\n",
    "\n",
    "def xsinx(x: np.ndarray) -> np.ndarray:\n",
    "    x = np.atleast_2d(x)\n",
    "    y = (x - 3.5) * np.sin((x - 3.5) / (np.pi))\n",
    "    return y"
   ]
  },
  {
   "cell_type": "code",
   "execution_count": 5,
   "id": "4c436437",
   "metadata": {},
   "outputs": [],
   "source": [
    "xspecs_g24 = egx.to_specs([[0., 3.], [0., 4.]])\n",
    "n_cstr_g24 = 2\n",
    "\n",
    "# Objective\n",
    "def G24(point):\n",
    "    \"\"\"\n",
    "    Function g24\n",
    "    1 global optimum y_opt = -5.5080 at x_opt =(2.3295, 3.1785)\n",
    "    \"\"\"\n",
    "    p = np.atleast_2d(point)\n",
    "    return - p[:, 0] - p[:, 1]\n",
    "\n",
    "# Constraints < 0\n",
    "def G24_c1(point):\n",
    "    p = np.atleast_2d(point)\n",
    "    return (- 2.0 * p[:, 0] ** 4.0\n",
    "            + 8.0 * p[:, 0] ** 3.0 \n",
    "            - 8.0 * p[:, 0] ** 2.0 \n",
    "            + p[:, 1] - 2.0)\n",
    "\n",
    "def G24_c2(point):\n",
    "    p = np.atleast_2d(point)\n",
    "    return (-4.0 * p[:, 0] ** 4.0\n",
    "            + 32.0 * p[:, 0] ** 3.0\n",
    "            - 88.0 * p[:, 0] ** 2.0\n",
    "            + 96.0 * p[:, 0]\n",
    "            + p[:, 1] - 36.0)\n",
    "\n",
    "# Grouped evaluation\n",
    "def g24(point):\n",
    "    p = np.atleast_2d(point)\n",
    "    return np.array([G24(p), G24_c1(p), G24_c2(p)]).T\n"
   ]
  },
  {
   "attachments": {},
   "cell_type": "markdown",
   "id": "45641636",
   "metadata": {},
   "source": [
    "### Continuous optimization with _Egor_"
   ]
  },
  {
   "cell_type": "code",
   "execution_count": 6,
   "id": "c8942031",
   "metadata": {},
   "outputs": [],
   "source": [
    "egor = egx.Egor(g24, xspecs_g24, \n",
    "                     n_doe=10, \n",
    "                     n_cstr=n_cstr_g24, \n",
    "                     cstr_tol=1e-3,\n",
    "                     infill_strategy=egx.InfillStrategy.WB2,\n",
    "                     target=-5.5,\n",
    "                     # outdir=\"./out\",\n",
    "                     # hot_start=True\n",
    "                    )  # see help(egor) for options\n",
    "\n",
    "# Specify regression and/or correlation models used to build the surrogates of objective and constraints\n",
    "#egor = egx.Egor(g24, xlimits_g24, n_cstr=n_cstr_g24, n_doe=10,\n",
    "#                      regr_spec=egx.RegressionSpec.LINEAR,\n",
    "#                      corr_spec=egx.CorrelationSpec.MATERN32 | egx.CorrelationSpec.MATERN52)  "
   ]
  },
  {
   "cell_type": "code",
   "execution_count": 7,
   "id": "c12b8e9d",
   "metadata": {},
   "outputs": [
    {
     "name": "stdout",
     "output_type": "stream",
     "text": [
      "Optimization f=[-5.50864553e+00 -2.26609824e-04  9.78978461e-04] at [2.3296139  3.17903163]\n",
      "Optimization history: \n",
      "Inputs = [[2.2536597  0.5876315 ]\n",
      " [2.71826982 1.67190984]\n",
      " [0.94027828 2.12879929]\n",
      " [0.56626734 1.02369743]\n",
      " [2.47701863 3.40141852]\n",
      " [1.32080744 0.02945779]\n",
      " [0.75348073 3.15480028]\n",
      " [0.065796   1.53902157]\n",
      " [1.53401084 2.7754243 ]\n",
      " [1.86878639 3.79047574]\n",
      " [3.         3.99999995]\n",
      " [2.35737496 3.18796368]\n",
      " [2.32976462 3.17868711]\n",
      " [2.3295701  3.17982145]\n",
      " [2.3296139  3.17903163]]\n",
      "Outputs = [[-2.84129120e+00 -2.06596487e+00 -2.91418276e+00]\n",
      " [-4.39017966e+00 -7.95222146e+00  7.34543294e-01]\n",
      " [-3.06907757e+00 -1.85695942e+00  2.06827333e+00]\n",
      " [-1.58996477e+00 -2.29458779e+00 -3.43337794e+00]\n",
      " [-5.87843715e+00 -1.39086321e+00  1.01468259e+00]\n",
      " [-1.35026523e+00 -3.58005655e+00 -1.13132205e+00]\n",
      " [-3.90828100e+00 -6.09499131e-01  1.92797691e+00]\n",
      " [-1.60481757e+00 -4.93370110e-01 -2.85164850e+01]\n",
      " [-4.30943515e+00 -2.46546469e-01  3.23982098e-01]\n",
      " [-5.65926212e+00  1.67021964e+00 -7.29738704e-02]\n",
      " [-6.99999995e+00 -1.60000001e+01  3.99999995e+00]\n",
      " [-5.54533865e+00 -2.31536918e-01  1.44452213e-01]\n",
      " [-5.50845173e+00 -1.80259604e-03  1.34310580e-03]\n",
      " [-5.50939155e+00  9.20908150e-04  1.56291448e-03]\n",
      " [-5.50864553e+00 -2.26609824e-04  9.78978461e-04]]\n"
     ]
    }
   ],
   "source": [
    "res = egor.minimize(n_iter=30)\n",
    "print(f\"Optimization f={res.y_opt} at {res.x_opt}\")\n",
    "print(\"Optimization history: \")\n",
    "print(f\"Inputs = {res.x_hist}\")\n",
    "print(f\"Outputs = {res.y_hist}\")"
   ]
  },
  {
   "attachments": {},
   "cell_type": "markdown",
   "id": "fb8ddd3d",
   "metadata": {},
   "source": [
    "## Example 2 : Mixed integer optimization"
   ]
  },
  {
   "attachments": {},
   "cell_type": "markdown",
   "id": "d46259b3",
   "metadata": {},
   "source": [
    "### Test function"
   ]
  },
  {
   "cell_type": "code",
   "execution_count": 8,
   "id": "6948efc1",
   "metadata": {},
   "outputs": [],
   "source": [
    "xspecs_mixint_xsinx = [egx.XSpec(egx.XType(egx.XType.INT), [0, 25])]\n",
    "n_cstr_mixint_xsinx = 0\n",
    "\n",
    "def mixint_xsinx(x: np.ndarray) -> np.ndarray:\n",
    "    x = np.atleast_2d(x)\n",
    "    if (np.abs(np.linalg.norm(np.floor(x))-np.linalg.norm(x))< 1e-8):\n",
    "        y = (x - 3.5) * np.sin((x - 3.5) / (np.pi))\n",
    "    else:\n",
    "        raise ValueError(f\"Bad input: mixint_xsinx accepts integer only, got {x}\")\n",
    "    return y"
   ]
  },
  {
   "attachments": {},
   "cell_type": "markdown",
   "id": "67faa229",
   "metadata": {},
   "source": [
    "### Mixed-integer optimization with _Egor_"
   ]
  },
  {
   "cell_type": "code",
   "execution_count": 9,
   "id": "928d1f38",
   "metadata": {},
   "outputs": [
    {
     "name": "stdout",
     "output_type": "stream",
     "text": [
      "Optimization f=[-15.12161154] at [19.]\n",
      "Optimization history: \n",
      "Inputs = [[ 9.]\n",
      " [ 7.]\n",
      " [24.]\n",
      " [ 6.]\n",
      " [ 5.]\n",
      " [ 3.]\n",
      " [18.]\n",
      " [19.]]\n",
      "Outputs = [[  5.41123083]\n",
      " [  3.14127616]\n",
      " [  4.91604976]\n",
      " [  1.78601478]\n",
      " [  0.68929352]\n",
      " [  0.07924194]\n",
      " [-14.43198471]\n",
      " [-15.12161154]]\n"
     ]
    }
   ],
   "source": [
    "egor = egx.Egor(mixint_xsinx, xspecs_mixint_xsinx, \n",
    "                     n_doe=3, \n",
    "                     infill_strategy=egx.InfillStrategy.EI,\n",
    "                     target=-15.12,\n",
    "                    )  # see help(egor) for options\n",
    "res = egor.minimize(n_iter=30)\n",
    "print(f\"Optimization f={res.y_opt} at {res.x_opt}\")\n",
    "print(\"Optimization history: \")\n",
    "print(f\"Inputs = {res.x_hist}\")\n",
    "print(f\"Outputs = {res.y_hist}\")"
   ]
  },
  {
   "attachments": {},
   "cell_type": "markdown",
   "id": "b9747211",
   "metadata": {},
   "source": [
    "## Usage"
   ]
  },
  {
   "cell_type": "code",
   "execution_count": 10,
   "id": "b91f14f2",
   "metadata": {},
   "outputs": [
    {
     "name": "stdout",
     "output_type": "stream",
     "text": [
      "Help on Egor in module builtins object:\n",
      "\n",
      "class Egor(object)\n",
      " |  Egor(fun, n_cstr=0, cstr_tol=1e-06, n_start=20, n_doe=0, regression_spec=7, correlation_spec=15, infill_strategy=1, q_points=1, par_infill_strategy=1, infill_optimizer=1, n_clusters=1)\n",
      " |  \n",
      " |  Optimizer constructor\n",
      " |  \n",
      " |  fun: array[n, nx]) -> array[n, ny]\n",
      " |       the function to be minimized\n",
      " |       fun(x) = [obj(x), cstr_1(x), ... cstr_k(x)] where\n",
      " |          obj is the objective function [n, nx] -> [n, 1]\n",
      " |          cstr_i is the ith constraint function [n, nx] -> [n, 1]\n",
      " |          an k the number of constraints (n_cstr)\n",
      " |          hence ny = 1 (obj) + k (cstrs)\n",
      " |       cstr functions are expected be negative (<=0) at the optimum.\n",
      " |  \n",
      " |   n_cstr (int):\n",
      " |       the number of constraint functions.\n",
      " |  \n",
      " |   cstr_tol (float):\n",
      " |       tolerance on constraints violation (cstr < tol).\n",
      " |  \n",
      " |   xspecs (list(XSpec)) where XSpec(xtype=FLOAT|INT, xlimits=[lower bound, upper bound]):\n",
      " |       Bounds of the nx components of the input x (eg. len(xspecs) == nx)\n",
      " |  \n",
      " |   n_start (int > 0):\n",
      " |       Number of runs of infill strategy optimizations (best result taken)\n",
      " |  \n",
      " |   n_doe (int >= 0):\n",
      " |       Number of samples of initial LHS sampling (used when DOE not provided by the user).\n",
      " |       When 0 a number of points is computed automatically regarding the number of input variables\n",
      " |       of the function under optimization.\n",
      " |  \n",
      " |   doe (array[ns, nt]):\n",
      " |       Initial DOE containing ns samples:\n",
      " |           either nt = nx then only x are specified and ns evals are done to get y doe values,\n",
      " |           or nt = nx + ny then x = doe[:, :nx] and y = doe[:, nx:] are specified  \n",
      " |  \n",
      " |   regr_spec (RegressionSpec flags, an int in [1, 7]):\n",
      " |       Specification of regression models used in gaussian processes.\n",
      " |       Can be RegressionSpec.CONSTANT (1), RegressionSpec.LINEAR (2), RegressionSpec.QUADRATIC (4) or\n",
      " |       any bit-wise union of these values (e.g. RegressionSpec.CONSTANT | RegressionSpec.LINEAR)\n",
      " |  \n",
      " |   corr_spec (CorrelationSpec flags, an int in [1, 15]):\n",
      " |       Specification of correlation models used in gaussian processes.\n",
      " |       Can be CorrelationSpec.SQUARED_EXPONENTIAL (1), CorrelationSpec.ABSOLUTE_EXPONENTIAL (2),\n",
      " |       CorrelationSpec.MATERN32 (4), CorrelationSpec.MATERN52 (8) or\n",
      " |       any bit-wise union of these values (e.g. CorrelationSpec.MATERN32 | CorrelationSpec.MATERN52)\n",
      " |  \n",
      " |   infill_strategy (InfillStrategy enum)\n",
      " |       Infill criteria to decide best next promising point.\n",
      " |       Can be either InfillStrategy.EI, InfillStrategy.WB2 or InfillStrategy.WB2S.\n",
      " |  \n",
      " |   q_points (int > 0):\n",
      " |       Number of points to be evaluated to allow parallel evaluation of the function under optimization.\n",
      " |  \n",
      " |   par_infill_strategy (ParInfillStrategy enum)\n",
      " |       Parallel infill criteria (aka qEI) to get virtual next promising points in order to allow\n",
      " |       q parallel evaluations of the function under optimization.\n",
      " |       Can be either ParInfillStrategy.KB (Kriging Believer),\n",
      " |       ParInfillStrategy.KBLB (KB Lower Bound), ParInfillStrategy.KBUB (KB Upper Bound),\n",
      " |       ParInfillStrategy.CLMIN (Constant Liar Minimum)\n",
      " |  \n",
      " |   infill_optimizer (InfillOptimizer enum)\n",
      " |       Internal optimizer used to optimize infill criteria.\n",
      " |       Can be either InfillOptimizer.COBYLA or InfillOptimizer.SLSQP\n",
      " |  \n",
      " |   kpls_dim (0 < int < nx)\n",
      " |       Number of components to be used when PLS projection is used (a.k.a KPLS method).\n",
      " |       This is used to address high-dimensional problems typically when nx > 9.\n",
      " |  \n",
      " |   n_clusters (int >= 0)\n",
      " |       Number of clusters used by the mixture of surrogate experts.\n",
      " |       When set to 0, the number of cluster is determined automatically and refreshed every\n",
      " |       10-points addition (should say 'tentative addition' because addition may fail for some points\n",
      " |       but it is counted anyway).\n",
      " |  \n",
      " |   target (float)\n",
      " |       Known optimum used as stopping criterion.\n",
      " |  \n",
      " |   outdir (String)\n",
      " |       Directory to write optimization history and used as search path for hot start doe\n",
      " |  \n",
      " |   hot_start (bool)\n",
      " |       Start by loading initial doe from <outdir> directory\n",
      " |  \n",
      " |   seed (int >= 0)\n",
      " |       Random generator seed to allow computation reproducibility.\n",
      " |  \n",
      " |  Methods defined here:\n",
      " |  \n",
      " |  minimize(self, /, n_iter=Ellipsis)\n",
      " |      This function finds the minimum of a given function `fun`\n",
      " |      \n",
      " |      # Parameters\n",
      " |          n_iter:\n",
      " |              the iteration budget, number of fun calls is n_doe + q_points * n_iter.\n",
      " |      \n",
      " |      # Returns\n",
      " |          optimization result\n",
      " |              x_opt (array[1, nx]): x value  where fun is at its minimum subject to constraint\n",
      " |              y_opt (array[1, nx]): fun(x_opt)\n",
      " |  \n",
      " |  ----------------------------------------------------------------------\n",
      " |  Static methods defined here:\n",
      " |  \n",
      " |  __new__(*args, **kwargs) from builtins.type\n",
      " |      Create and return a new object.  See help(type) for accurate signature.\n",
      "\n"
     ]
    }
   ],
   "source": [
    "help(egor)"
   ]
  }
 ],
 "metadata": {
  "kernelspec": {
   "display_name": "Python 3 (ipykernel)",
   "language": "python",
   "name": "python3"
  },
  "language_info": {
   "codemirror_mode": {
    "name": "ipython",
    "version": 3
   },
   "file_extension": ".py",
   "mimetype": "text/x-python",
   "name": "python",
   "nbconvert_exporter": "python",
   "pygments_lexer": "ipython3",
   "version": "3.8.5"
  }
 },
 "nbformat": 4,
 "nbformat_minor": 5
}
