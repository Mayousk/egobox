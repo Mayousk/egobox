{
 "cells": [
  {
   "cell_type": "markdown",
   "id": "72380b9b",
   "metadata": {},
   "source": [
    "# Egobox"
   ]
  },
  {
   "cell_type": "markdown",
   "id": "31022791",
   "metadata": {},
   "source": [
    "## Installation\n",
    "\n",
    "You have to get the right wheel archive regarding your Python/Platform installation.\n",
    "\n",
    "Then you can install with the pip command as follows: (here for Python 3.8 on Windows)"
   ]
  },
  {
   "cell_type": "markdown",
   "id": "6a8e506a",
   "metadata": {},
   "source": [
    "pip install egobox-0.1.0-cp38-none-win_amd64.whl"
   ]
  },
  {
   "cell_type": "markdown",
   "id": "4c2757f5",
   "metadata": {},
   "source": [
    "## Import"
   ]
  },
  {
   "cell_type": "code",
   "execution_count": 11,
   "id": "0edaf00f",
   "metadata": {},
   "outputs": [],
   "source": [
    "import numpy as np\n",
    "import egobox as egx\n",
    "\n",
    "# To display optimization information (none by default)\n",
    "import logging\n",
    "logging.basicConfig(level=logging.INFO)"
   ]
  },
  {
   "cell_type": "markdown",
   "id": "faae2555",
   "metadata": {},
   "source": [
    "## Test functions "
   ]
  },
  {
   "cell_type": "code",
   "execution_count": 12,
   "id": "7f6da807",
   "metadata": {},
   "outputs": [],
   "source": [
    "xlimits_xsinx = np.array([[0., 25.]])\n",
    "n_cstr_xsinx = 0\n",
    "\n",
    "def xsinx(x: np.ndarray) -> np.ndarray:\n",
    "    x = np.atleast_2d(x)\n",
    "    y = (x - 3.5) * np.sin((x - 3.5) / (np.pi))\n",
    "    return y"
   ]
  },
  {
   "cell_type": "code",
   "execution_count": 13,
   "id": "4c436437",
   "metadata": {},
   "outputs": [],
   "source": [
    "xlimits_g24 = np.array([[0., 3.], [0., 4.]])\n",
    "n_cstr_g24 = 2\n",
    "\n",
    "# Objective\n",
    "def G24(point):\n",
    "    \"\"\"\n",
    "    Function g24\n",
    "    1 global optimum y_opt = -5.5080 at x_opt =(2.3295, 3.1785)\n",
    "    \"\"\"\n",
    "    p = np.atleast_2d(point)\n",
    "    return - p[:, 0] - p[:, 1]\n",
    "\n",
    "# Constraints < 0\n",
    "def G24_c1(point):\n",
    "    p = np.atleast_2d(point)\n",
    "    return (- 2.0 * p[:, 0] ** 4.0\n",
    "            + 8.0 * p[:, 0] ** 3.0 \n",
    "            - 8.0 * p[:, 0] ** 2.0 \n",
    "            + p[:, 1] - 2.0)\n",
    "\n",
    "def G24_c2(point):\n",
    "    p = np.atleast_2d(point)\n",
    "    return (-4.0 * p[:, 0] ** 4.0\n",
    "            + 32.0 * p[:, 0] ** 3.0\n",
    "            - 88.0 * p[:, 0] ** 2.0\n",
    "            + 96.0 * p[:, 0]\n",
    "            + p[:, 1] - 36.0)\n",
    "\n",
    "# Grouped evaluation\n",
    "def g24(point):\n",
    "    p = np.atleast_2d(point)\n",
    "    return np.array([G24(p), G24_c1(p), G24_c2(p)]).T\n"
   ]
  },
  {
   "cell_type": "markdown",
   "id": "45641636",
   "metadata": {},
   "source": [
    "## Egobox Rust optimizer (a.k.a Egor)"
   ]
  },
  {
   "cell_type": "code",
   "execution_count": 14,
   "id": "0b0139e1",
   "metadata": {},
   "outputs": [],
   "source": [
    "egor = egx.Optimizer(xlimits_g24, infill_strategy=egx.InfillStrategy.EI)  # see help(SegoOptimizer) for options\n",
    "\n",
    "# Restrict regression and correlation models used\n",
    "# egor = egx.Optimizer(xlimits_g24, infill_strategy=egx.InfillStrategy.EI,\n",
    "#                      regr_spec=egx.RegressionSpec.LINEAR,\n",
    "#                      corr_spec=egx.CorrelationSpec.MATERN32 | egx.CorrelationSpec.MATERN52)  "
   ]
  },
  {
   "cell_type": "code",
   "execution_count": 15,
   "id": "c12b8e9d",
   "metadata": {},
   "outputs": [
    {
     "name": "stderr",
     "output_type": "stream",
     "text": [
      "INFO:moe.algorithm:Best expert Linear_SquaredExponential accuracy=0.000000000000000044408920985006264\n",
      "INFO:moe.algorithm:Best expert Linear_SquaredExponential accuracy=0.5042686602449344\n",
      "INFO:moe.algorithm:Best expert Linear_Matern52 accuracy=1.021492694420564\n",
      "INFO:ego.egor:Iteration 1/10: Best fun(x)=[-5.457730604665558, -0.06781945979561366, -0.04320859447174996] at x=[2.3314269035906396, 3.1263037010749186]\n",
      "INFO:moe.algorithm:Best expert Linear_Matern52 accuracy=0.00000000000000017763568394002506\n",
      "INFO:moe.algorithm:Best expert Linear_Matern52 accuracy=0.1939112812699915\n",
      "INFO:moe.algorithm:Best expert Linear_Matern52 accuracy=0.517482675146703\n",
      "INFO:ego.egor:Iteration 2/10: Best fun(x)=[-5.501536007846931, -0.019149157610847567, -0.0013644668747758715] at x=[2.3308993267120792, 3.1706366811348516]\n",
      "INFO:moe.algorithm:Best expert Linear_SquaredExponential accuracy=0.0000000000000002220446049250313\n",
      "INFO:moe.algorithm:Best expert Quadratic_SquaredExponential accuracy=0.07589117426202056\n",
      "INFO:moe.algorithm:Best expert Linear_SquaredExponential accuracy=0.2019718543509148\n",
      "INFO:ego.egor:Iteration 3/10: Best fun(x)=[-5.501536007846931, -0.019149157610847567, -0.0013644668747758715] at x=[2.3308993267120792, 3.1706366811348516]\n",
      "INFO:moe.algorithm:Best expert Linear_Matern32 accuracy=0.00000000000000017763568394002506\n",
      "INFO:moe.algorithm:Best expert Quadratic_SquaredExponential accuracy=0.026629828683569667\n",
      "INFO:moe.algorithm:Best expert Constant_Matern52 accuracy=0.26211595997028797\n",
      "INFO:ego.egor:Iteration 4/10: Best fun(x)=[-5.501536007846931, -0.019149157610847567, -0.0013644668747758715] at x=[2.3308993267120792, 3.1706366811348516]\n",
      "INFO:moe.algorithm:Best expert Linear_AbsoluteExponential accuracy=0.00000000000000017763568394002506\n",
      "INFO:moe.algorithm:Best expert Quadratic_SquaredExponential accuracy=0.02864388391232875\n",
      "INFO:moe.algorithm:Best expert Quadratic_SquaredExponential accuracy=0.20088078014031016\n",
      "INFO:ego.egor:Iteration 5/10: Best fun(x)=[-5.505490783000099, -0.008697078904546185, -0.000030447453745807707] at x=[2.330193092364205, 3.1752976906358943]\n",
      "INFO:moe.algorithm:Best expert Linear_Matern32 accuracy=0.0000000000000003108624468950438\n",
      "INFO:moe.algorithm:Best expert Quadratic_SquaredExponential accuracy=0.022256725372567433\n",
      "INFO:moe.algorithm:Best expert Quadratic_SquaredExponential accuracy=0.10299128771401111\n",
      "INFO:ego.egor:Iteration 6/10: Best fun(x)=[-5.505490783000099, -0.008697078904546185, -0.000030447453745807707] at x=[2.330193092364205, 3.1752976906358943]\n",
      "INFO:moe.algorithm:Best expert Linear_AbsoluteExponential accuracy=0.0000000000000005329070518200751\n",
      "INFO:moe.algorithm:Best expert Quadratic_SquaredExponential accuracy=0.02091485353983059\n",
      "INFO:moe.algorithm:Best expert Quadratic_SquaredExponential accuracy=0.2754399752232663\n",
      "INFO:ego.egor:Iteration 7/10: Best fun(x)=[-5.505490783000099, -0.008697078904546185, -0.000030447453745807707] at x=[2.330193092364205, 3.1752976906358943]\n",
      "INFO:moe.algorithm:Best expert Linear_AbsoluteExponential accuracy=0.0000000000000002220446049250313\n",
      "INFO:moe.algorithm:Best expert Linear_SquaredExponential accuracy=0.04572086055531086\n",
      "INFO:moe.algorithm:Best expert Linear_SquaredExponential accuracy=0.40577739990321177\n",
      "INFO:ego.egor:Iteration 8/10: Best fun(x)=[-5.505490783000099, -0.008697078904546185, -0.000030447453745807707] at x=[2.330193092364205, 3.1752976906358943]\n",
      "INFO:moe.algorithm:Best expert Linear_Matern52 accuracy=0.0000000000000004440892098500626\n",
      "INFO:moe.algorithm:Best expert Quadratic_SquaredExponential accuracy=0.08708385840503748\n",
      "INFO:moe.algorithm:Best expert Quadratic_SquaredExponential accuracy=0.38481355886968827\n",
      "INFO:ego.egor:Iteration 9/10: Best fun(x)=[-5.505490783000099, -0.008697078904546185, -0.000030447453745807707] at x=[2.330193092364205, 3.1752976906358943]\n",
      "INFO:moe.algorithm:Best expert Linear_Matern52 accuracy=0.0000000000000004884981308350689\n",
      "INFO:moe.algorithm:Best expert Quadratic_SquaredExponential accuracy=0.07875694170841085\n",
      "INFO:moe.algorithm:Best expert Quadratic_SquaredExponential accuracy=0.3135217599856691\n",
      "INFO:ego.egor:Iteration 10/10: Best fun(x)=[-5.505490783000099, -0.008697078904546185, -0.000030447453745807707] at x=[2.330193092364205, 3.1752976906358943]\n"
     ]
    },
    {
     "name": "stdout",
     "output_type": "stream",
     "text": [
      "Optimization f=[-5.505490783000099, -0.008697078904546185, -3.0447453745807707e-05] at [2.330193092364205, 3.1752976906358943]\n"
     ]
    }
   ],
   "source": [
    "res = egor.minimize(g24, n_cstr=n_cstr_g24, n_eval=20)\n",
    "print(f\"Optimization f={res.y_opt} at {res.x_opt}\")"
   ]
  },
  {
   "cell_type": "code",
   "execution_count": 16,
   "id": "b91f14f2",
   "metadata": {},
   "outputs": [
    {
     "name": "stdout",
     "output_type": "stream",
     "text": [
      "Help on Optimizer in module builtins object:\n",
      "\n",
      "class Optimizer(object)\n",
      " |  Optimizer(xlimits, n_start=20, n_doe=10, regression_spec=7, correlation_spec=15, infill_strategy=1, infill_optimizer=1)\n",
      " |  \n",
      " |  Optimizer constructor\n",
      " |  \n",
      " |  Parameters\n",
      " |  \n",
      " |      xlimits (array[nx, 2]):\n",
      " |          Bounds of th nx components of the input x (eg. [[lower_1, upper_1], ..., [lower_nx, upper_nx]])\n",
      " |  \n",
      " |      n_start (int > 0):\n",
      " |          Number of runs of infill strategy optimizations (best result taken)\n",
      " |  \n",
      " |      n_doe (int > 0):\n",
      " |          Number of samples of initial LHS sampling (used when DOE not provided by the user)\n",
      " |  \n",
      " |      regr_spec (RegressionSpec flags, an int in [1, 7]):\n",
      " |          Specification of regression models used in gaussian processes.\n",
      " |          Can be RegressionSpec.CONSTANT (1), RegressionSpec.LINEAR (2), RegressionSpec.QUADRATIC (4) or\n",
      " |          any bit-wise union of these values (e.g. RegressionSpec.CONSTANT | RegressionSpec.LINEAR)\n",
      " |  \n",
      " |      corr_spec (CorrelationSpec flags, an int in [1, 15]):\n",
      " |          Specification of correlation models used in gaussian processes.\n",
      " |          Can be CorrelationSpec.SQUARED_EXPONENTIAL (1), CorrelationSpec.ABSOLUTE_EXPONENTIAL (2),\n",
      " |          CorrelationSpec.MATERN32 (4), CorrelationSpec.MATERN52 (8) or\n",
      " |          any bit-wise union of these values (e.g. CorrelationSpec.MATERN32 | CorrelationSpec.MATERN52)\n",
      " |  \n",
      " |      infill_strategy (InfillStrategy enum, an int in [1, 3])\n",
      " |          Infill criteria to decide best next promising point.\n",
      " |          Can be either InfillStrategy.EI (1), InfillStrategy.WB2 (2) or InfillStrategy.WB2S (3)\n",
      " |  \n",
      " |      infill_optimizer (InfillOptimizer enum, an int [1, 2])\n",
      " |          Internal optimizer used to optimize infill criteria.\n",
      " |          Can be either InfillOptimizer.COBYLA (1) or InfillOptimizer.SLSQP (2)\n",
      " |  \n",
      " |  Methods defined here:\n",
      " |  \n",
      " |  minimize(fun, n_eval=20, n_cstr=0)\n",
      " |      This function finds the minimum of a given fun function\n",
      " |      \n",
      " |      Parameters\n",
      " |      \n",
      " |          fun: array[n, nx]) -> array[n, ny]\n",
      " |              the function to be minimized\n",
      " |              fun(x) = [obj(x), cstr_1(x), ... cstr_k(x)] where\n",
      " |                 obj is the objective function [n, nx] -> [n, 1]\n",
      " |                 cstr_i is the ith constraint function [n, nx] -> [n, 1]\n",
      " |                 an k the number of constraints (n_cstr)\n",
      " |                 hence ny = 1 (obj) + k (cstrs)\n",
      " |              cstr functions are expected be negative (<=0) at the optimum.\n",
      " |      \n",
      " |          n_cstr (int):\n",
      " |              the number of constraint functions.\n",
      " |                  \n",
      " |          n_eval (int):\n",
      " |              the function evaluation budget, number of fun calls.\n",
      " |      \n",
      " |      Returns\n",
      " |      \n",
      " |          optimization result\n",
      " |              x_opt (array[1, nx]): x value  where fun is at its minimum subject to constraint\n",
      " |              y_opt (array[1, nx]): fun(x_opt)\n",
      " |  \n",
      " |  ----------------------------------------------------------------------\n",
      " |  Static methods defined here:\n",
      " |  \n",
      " |  __new__(*args, **kwargs) from builtins.type\n",
      " |      Create and return a new object.  See help(type) for accurate signature.\n",
      "\n"
     ]
    }
   ],
   "source": [
    "help(egor)"
   ]
  },
  {
   "cell_type": "code",
   "execution_count": null,
   "id": "578d93bf",
   "metadata": {},
   "outputs": [],
   "source": []
  }
 ],
 "metadata": {
  "kernelspec": {
   "display_name": "Python 3",
   "language": "python",
   "name": "python3"
  },
  "language_info": {
   "codemirror_mode": {
    "name": "ipython",
    "version": 3
   },
   "file_extension": ".py",
   "mimetype": "text/x-python",
   "name": "python",
   "nbconvert_exporter": "python",
   "pygments_lexer": "ipython3",
   "version": "3.8.5"
  }
 },
 "nbformat": 4,
 "nbformat_minor": 5
}
